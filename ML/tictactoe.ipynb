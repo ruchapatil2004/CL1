{
 "cells": [
  {
   "cell_type": "code",
   "execution_count": 3,
   "id": "9045a634-51a2-4e3c-a955-8c316c7d7821",
   "metadata": {},
   "outputs": [
    {
     "name": "stdout",
     "output_type": "stream",
     "text": [
      "Training AI...\n",
      "Training complete!\n",
      "\n",
      "Game starts! You are 'O', AI is 'X'\n",
      "Positions (0-8):\n",
      "[[0 1 2]\n",
      " [3 4 5]\n",
      " [6 7 8]]\n",
      "  |   |  \n",
      "  |   |  \n",
      "  |   |  \n",
      "---------\n",
      "\n",
      "AI moved:\n",
      "X |   |  \n",
      "  |   |  \n",
      "  |   |  \n",
      "---------\n"
     ]
    },
    {
     "name": "stdin",
     "output_type": "stream",
     "text": [
      "\n",
      "Enter your move (0-8):  8\n"
     ]
    },
    {
     "name": "stdout",
     "output_type": "stream",
     "text": [
      "X |   |  \n",
      "  |   |  \n",
      "  |   | O\n",
      "---------\n",
      "\n",
      "AI moved:\n",
      "X |   | X\n",
      "  |   |  \n",
      "  |   | O\n",
      "---------\n"
     ]
    },
    {
     "name": "stdin",
     "output_type": "stream",
     "text": [
      "\n",
      "Enter your move (0-8):  1\n"
     ]
    },
    {
     "name": "stdout",
     "output_type": "stream",
     "text": [
      "X | O | X\n",
      "  |   |  \n",
      "  |   | O\n",
      "---------\n",
      "\n",
      "AI moved:\n",
      "X | O | X\n",
      "  |   |  \n",
      "X |   | O\n",
      "---------\n"
     ]
    },
    {
     "name": "stdin",
     "output_type": "stream",
     "text": [
      "\n",
      "Enter your move (0-8):  5\n"
     ]
    },
    {
     "name": "stdout",
     "output_type": "stream",
     "text": [
      "X | O | X\n",
      "  |   | O\n",
      "X |   | O\n",
      "---------\n",
      "\n",
      "AI moved:\n",
      "X | O | X\n",
      "X |   | O\n",
      "X |   | O\n",
      "---------\n",
      "AI wins!\n"
     ]
    }
   ],
   "source": [
    "import numpy as np\n",
    "import random\n",
    "\n",
    "# Display the Tic-Tac-Toe board\n",
    "def display_board(board):\n",
    "    print(\"\\n\".join([\" | \".join(board[i*3:(i+1)*3]) for i in range(3)]))\n",
    "    print(\"-\" * 9)\n",
    "\n",
    "# Check if there's a winner\n",
    "def check_winner(board, player):\n",
    "    wins = [(0,1,2), (3,4,5), (6,7,8), (0,3,6), (1,4,7), (2,5,8), (0,4,8), (2,4,6)]\n",
    "    return any(all(board[i] == player for i in win) for win in wins)\n",
    "\n",
    "# Q-learning agent functions\n",
    "q_table = {}  # Stores Q-values for state-action pairs\n",
    "def get_state(board):\n",
    "    return \"\".join(board)\n",
    "\n",
    "def choose_action(board, epsilon=0.1):\n",
    "    state = get_state(board)\n",
    "    if random.random() < epsilon or state not in q_table:\n",
    "        return random.choice([i for i, x in enumerate(board) if x == ' '])\n",
    "    return max((i for i, x in enumerate(board) if x == ' '), key=lambda x: q_table[state].get(x, 0))\n",
    "\n",
    "def update_q(state, action, reward, next_state, alpha=0.5, gamma=0.9):\n",
    "    if state not in q_table:\n",
    "        q_table[state] = {}\n",
    "    old_q = q_table[state].get(action, 0)\n",
    "    next_max = max(q_table.get(next_state, {}).values(), default=0)\n",
    "    q_table[state][action] = old_q + alpha * (reward + gamma * next_max - old_q)\n",
    "\n",
    "# Training the AI through reinforcement learning\n",
    "def train_ai(episodes=5000):\n",
    "    for _ in range(episodes):\n",
    "        board = [' '] * 9\n",
    "        while True:\n",
    "            state = get_state(board)\n",
    "            action = choose_action(board)\n",
    "            board[action] = 'X'\n",
    "            if check_winner(board, 'X'):\n",
    "                update_q(state, action, 1, get_state(board))\n",
    "                break\n",
    "            if ' ' not in board:\n",
    "                update_q(state, action, 0.5, get_state(board))\n",
    "                break\n",
    "            opp_action = random.choice([i for i, x in enumerate(board) if x == ' '])\n",
    "            board[opp_action] = 'O'\n",
    "            if check_winner(board, 'O'):\n",
    "                update_q(state, action, -1, get_state(board))\n",
    "                break\n",
    "            update_q(state, action, 0, get_state(board))\n",
    "\n",
    "# Play a game against the trained AI\n",
    "def play_game():\n",
    "    board = [' '] * 9\n",
    "    while True:\n",
    "        display_board(board)\n",
    "        ai_action = choose_action(board, epsilon=0)  # No exploration in test\n",
    "        board[ai_action] = 'X'\n",
    "        print(\"\\nAI moved:\")\n",
    "        display_board(board)\n",
    "        if check_winner(board, 'X'):\n",
    "            print(\"AI wins!\")\n",
    "            break\n",
    "        if ' ' not in board:\n",
    "            print(\"It's a draw!\")\n",
    "            break\n",
    "        while True:\n",
    "            try:\n",
    "                player_action = int(input(\"\\nEnter your move (0-8): \"))\n",
    "                if board[player_action] == ' ':\n",
    "                    board[player_action] = 'O'\n",
    "                    break\n",
    "                print(\"Invalid move, try again.\")\n",
    "            except ValueError:\n",
    "                print(\"Invalid input, try again.\")\n",
    "        if check_winner(board, 'O'):\n",
    "            display_board(board)\n",
    "            print(\"You win!\")\n",
    "            break\n",
    "        if ' ' not in board:\n",
    "            display_board(board)\n",
    "            print(\"It's a draw!\")\n",
    "            break\n",
    "\n",
    "# Main\n",
    "print(\"Training AI...\")\n",
    "train_ai()\n",
    "print(\"Training complete!\\n\")\n",
    "print(\"Game starts! You are 'O', AI is 'X'\")\n",
    "print(\"Positions (0-8):\")\n",
    "print(np.arange(9).reshape(3,3))\n",
    "\n",
    "play_game()"
   ]
  },
  {
   "cell_type": "code",
   "execution_count": null,
   "id": "cfe8f44f-45e2-4b8a-b64c-d8255181bdc5",
   "metadata": {},
   "outputs": [],
   "source": []
  }
 ],
 "metadata": {
  "kernelspec": {
   "display_name": "Python 3 (ipykernel)",
   "language": "python",
   "name": "python3"
  },
  "language_info": {
   "codemirror_mode": {
    "name": "ipython",
    "version": 3
   },
   "file_extension": ".py",
   "mimetype": "text/x-python",
   "name": "python",
   "nbconvert_exporter": "python",
   "pygments_lexer": "ipython3",
   "version": "3.11.9"
  }
 },
 "nbformat": 4,
 "nbformat_minor": 5
}
